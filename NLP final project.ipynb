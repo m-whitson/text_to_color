{
 "cells": [
  {
   "cell_type": "code",
   "execution_count": 440,
   "metadata": {},
   "outputs": [
    {
     "name": "stderr",
     "output_type": "stream",
     "text": [
      "[nltk_data] Downloading package punkt to\n",
      "[nltk_data]     /Users/gracebrown/nltk_data...\n",
      "[nltk_data]   Package punkt is already up-to-date!\n"
     ]
    }
   ],
   "source": [
    "import pandas as pd\n",
    "import gensim\n",
    "import numpy as np\n",
    "import random\n",
    "import math\n",
    "\n",
    "import gensim.downloader as api\n",
    "import nltk\n",
    "nltk.download(\"punkt\")\n",
    "\n",
    "from keras.layers import Dense, Dropout, GlobalAveragePooling1D, LSTM, Masking, TimeDistributed\n",
    "from keras.models import Sequential\n",
    "from matplotlib import pyplot as plt"
   ]
  },
  {
   "cell_type": "code",
   "execution_count": 3,
   "metadata": {},
   "outputs": [],
   "source": [
    "df = pd.read_csv('colornames.csv')"
   ]
  },
  {
   "cell_type": "markdown",
   "metadata": {},
   "source": [
    "# Preprocessing"
   ]
  },
  {
   "cell_type": "code",
   "execution_count": 5,
   "metadata": {},
   "outputs": [],
   "source": [
    "def hex_code_to_rgb(hex):\n",
    "    \"\"\" Converts a color hex code to a tuple of values [0, 256] representing to RGB values\n",
    "    Args:\n",
    "        hex (str) : a string of the format '#dddddd' where d is a digit of base 16 (so an int or a letter A-F)\n",
    "    Returns:\n",
    "        rgb (int, int, int) : a tuple of three ints between 0 and 256 \n",
    "    \"\"\"\n",
    "\n",
    "    r_str = hex[1:3]\n",
    "    g_str = hex[3:5]\n",
    "    b_str = hex[5:7]\n",
    "\n",
    "    r = int(r_str, 16)\n",
    "    g = int(g_str, 16)\n",
    "    b = int(b_str, 16)\n",
    "  \n",
    "    return r, g, b"
   ]
  },
  {
   "cell_type": "code",
   "execution_count": 6,
   "metadata": {},
   "outputs": [
    {
     "data": {
      "text/html": [
       "<div>\n",
       "<style scoped>\n",
       "    .dataframe tbody tr th:only-of-type {\n",
       "        vertical-align: middle;\n",
       "    }\n",
       "\n",
       "    .dataframe tbody tr th {\n",
       "        vertical-align: top;\n",
       "    }\n",
       "\n",
       "    .dataframe thead th {\n",
       "        text-align: right;\n",
       "    }\n",
       "</style>\n",
       "<table border=\"1\" class=\"dataframe\">\n",
       "  <thead>\n",
       "    <tr style=\"text-align: right;\">\n",
       "      <th></th>\n",
       "      <th>name</th>\n",
       "      <th>hex</th>\n",
       "    </tr>\n",
       "  </thead>\n",
       "  <tbody>\n",
       "    <tr>\n",
       "      <td>0</td>\n",
       "      <td>100 mph</td>\n",
       "      <td>#c93f38</td>\n",
       "    </tr>\n",
       "    <tr>\n",
       "      <td>1</td>\n",
       "      <td>18th century green</td>\n",
       "      <td>#a59344</td>\n",
       "    </tr>\n",
       "    <tr>\n",
       "      <td>2</td>\n",
       "      <td>1975 earth red</td>\n",
       "      <td>#7b463b</td>\n",
       "    </tr>\n",
       "    <tr>\n",
       "      <td>3</td>\n",
       "      <td>1989 miami hotline</td>\n",
       "      <td>#dd3366</td>\n",
       "    </tr>\n",
       "    <tr>\n",
       "      <td>4</td>\n",
       "      <td>20000 leagues under the sea</td>\n",
       "      <td>#191970</td>\n",
       "    </tr>\n",
       "  </tbody>\n",
       "</table>\n",
       "</div>"
      ],
      "text/plain": [
       "                          name      hex\n",
       "0                      100 mph  #c93f38\n",
       "1           18th century green  #a59344\n",
       "2               1975 earth red  #7b463b\n",
       "3           1989 miami hotline  #dd3366\n",
       "4  20000 leagues under the sea  #191970"
      ]
     },
     "execution_count": 6,
     "metadata": {},
     "output_type": "execute_result"
    }
   ],
   "source": [
    "# converting names to lowercase and converting hex code to RGB values\n",
    "r_list = []\n",
    "g_list = []\n",
    "b_list = []\n",
    "\n",
    "for color in df.iterrows():\n",
    "    name = color[1]['name']\n",
    "    hex = color[1]['hex']\n",
    "    color[1]['name'] = name.lower()\n",
    "  \n",
    "    r, g, b = hex_code_to_rgb(hex)\n",
    "\n",
    "    r_list.append(r)\n",
    "    g_list.append(g)\n",
    "    b_list.append(b)\n",
    "\n",
    "df.head()"
   ]
  },
  {
   "cell_type": "code",
   "execution_count": 7,
   "metadata": {},
   "outputs": [
    {
     "data": {
      "text/html": [
       "<div>\n",
       "<style scoped>\n",
       "    .dataframe tbody tr th:only-of-type {\n",
       "        vertical-align: middle;\n",
       "    }\n",
       "\n",
       "    .dataframe tbody tr th {\n",
       "        vertical-align: top;\n",
       "    }\n",
       "\n",
       "    .dataframe thead th {\n",
       "        text-align: right;\n",
       "    }\n",
       "</style>\n",
       "<table border=\"1\" class=\"dataframe\">\n",
       "  <thead>\n",
       "    <tr style=\"text-align: right;\">\n",
       "      <th></th>\n",
       "      <th>name</th>\n",
       "      <th>hex</th>\n",
       "      <th>r</th>\n",
       "      <th>g</th>\n",
       "      <th>b</th>\n",
       "    </tr>\n",
       "  </thead>\n",
       "  <tbody>\n",
       "    <tr>\n",
       "      <td>0</td>\n",
       "      <td>100 mph</td>\n",
       "      <td>#c93f38</td>\n",
       "      <td>201</td>\n",
       "      <td>63</td>\n",
       "      <td>56</td>\n",
       "    </tr>\n",
       "    <tr>\n",
       "      <td>1</td>\n",
       "      <td>18th century green</td>\n",
       "      <td>#a59344</td>\n",
       "      <td>165</td>\n",
       "      <td>147</td>\n",
       "      <td>68</td>\n",
       "    </tr>\n",
       "    <tr>\n",
       "      <td>2</td>\n",
       "      <td>1975 earth red</td>\n",
       "      <td>#7b463b</td>\n",
       "      <td>123</td>\n",
       "      <td>70</td>\n",
       "      <td>59</td>\n",
       "    </tr>\n",
       "    <tr>\n",
       "      <td>3</td>\n",
       "      <td>1989 miami hotline</td>\n",
       "      <td>#dd3366</td>\n",
       "      <td>221</td>\n",
       "      <td>51</td>\n",
       "      <td>102</td>\n",
       "    </tr>\n",
       "    <tr>\n",
       "      <td>4</td>\n",
       "      <td>20000 leagues under the sea</td>\n",
       "      <td>#191970</td>\n",
       "      <td>25</td>\n",
       "      <td>25</td>\n",
       "      <td>112</td>\n",
       "    </tr>\n",
       "  </tbody>\n",
       "</table>\n",
       "</div>"
      ],
      "text/plain": [
       "                          name      hex    r    g    b\n",
       "0                      100 mph  #c93f38  201   63   56\n",
       "1           18th century green  #a59344  165  147   68\n",
       "2               1975 earth red  #7b463b  123   70   59\n",
       "3           1989 miami hotline  #dd3366  221   51  102\n",
       "4  20000 leagues under the sea  #191970   25   25  112"
      ]
     },
     "execution_count": 7,
     "metadata": {},
     "output_type": "execute_result"
    }
   ],
   "source": [
    "#add rgb values into dataframe\n",
    "df['r'] = r_list\n",
    "df['g'] = g_list\n",
    "df['b'] = b_list\n",
    "df.head()"
   ]
  },
  {
   "cell_type": "code",
   "execution_count": 387,
   "metadata": {},
   "outputs": [],
   "source": [
    "#pretrained word embeddings\n",
    "model_gigaword = api.load(\"glove-wiki-gigaword-100\")"
   ]
  },
  {
   "cell_type": "code",
   "execution_count": 412,
   "metadata": {},
   "outputs": [],
   "source": [
    "def process_colors(color_val):\n",
    "    \"\"\"\n",
    "    get dictionaries of color name to r g or b value\n",
    "    \"\"\"\n",
    "    rgbs = {}\n",
    "    for color in df.iterrows():\n",
    "        name = color[1]['name']\n",
    "        rgbs[name] = color[1][color_val]\n",
    "    return rgbs\n",
    "\n",
    "reds = process_colors('r')\n",
    "greens = process_colors('g')\n",
    "blues = process_colors('b')"
   ]
  },
  {
   "cell_type": "code",
   "execution_count": 418,
   "metadata": {},
   "outputs": [],
   "source": [
    "#length of longest color name\n",
    "max_name_length = max([len(name.split()) for name in reds])"
   ]
  },
  {
   "cell_type": "code",
   "execution_count": 419,
   "metadata": {},
   "outputs": [],
   "source": [
    "#separate into x and y data for each value of r g and b\n",
    "empty_embedding = np.zeros(100)\n",
    "X_train = []\n",
    "Y_train_red = []\n",
    "Y_train_green = []\n",
    "Y_train_blue = []\n",
    "\n",
    "for name in reds:\n",
    "    tokens = name.lower().split()\n",
    "    embeddings = []\n",
    "    red = []\n",
    "    blue = []\n",
    "    green = []\n",
    "\n",
    "    for token in tokens:\n",
    "        if token in model_gigaword:\n",
    "            embeddings.append(model_gigaword[token])\n",
    "\n",
    "    #to keep dimensions the same, add empty word embeddings to pad shorter color names\n",
    "    while len(embeddings) < max_name_length:\n",
    "        embeddings.append(empty_embedding)\n",
    "\n",
    "    X_train.append(np.array(embeddings))\n",
    "    \n",
    "    y_red = reds[name]\n",
    "    y_green = greens[name]\n",
    "    y_blue = blues[name]\n",
    "    \n",
    "    Y_train_red.append(y_red)\n",
    "    Y_train_green.append(y_green)\n",
    "    Y_train_blue.append(y_blue)\n",
    "    \n",
    "X_train = np.array(X_train)\n",
    "Y_train_red = np.array(Y_train_red)\n",
    "Y_train_green = np.array(Y_train_green)\n",
    "Y_train_blue = np.array(Y_train_blue)"
   ]
  },
  {
   "cell_type": "markdown",
   "metadata": {},
   "source": [
    "# Neural Networks"
   ]
  },
  {
   "cell_type": "code",
   "execution_count": 420,
   "metadata": {},
   "outputs": [],
   "source": [
    "def train_nn(X_train, Y_train):\n",
    "    model = Sequential()\n",
    "    model.add(Dense(128, input_shape = (max_name_length, 100), activation = \"tanh\"))\n",
    "    model.add(GlobalMaxPooling1D())\n",
    "    model.add(Dense(1))\n",
    "\n",
    "    model.compile(loss = \"mse\", optimizer = \"sgd\")\n",
    "    model.fit(X_train, Y_train, epochs = 50)\n",
    "    return model"
   ]
  },
  {
   "cell_type": "code",
   "execution_count": 421,
   "metadata": {},
   "outputs": [
    {
     "name": "stdout",
     "output_type": "stream",
     "text": [
      "Epoch 1/50\n",
      "27773/27773 [==============================] - 8s 295us/step - loss: 4744.7552\n",
      "Epoch 2/50\n",
      "27773/27773 [==============================] - 5s 165us/step - loss: 4332.3388\n",
      "Epoch 3/50\n",
      "27773/27773 [==============================] - 5s 165us/step - loss: 4182.2061\n",
      "Epoch 4/50\n",
      "27773/27773 [==============================] - 5s 181us/step - loss: 4011.4748\n",
      "Epoch 5/50\n",
      "27773/27773 [==============================] - 6s 228us/step - loss: 3808.0748\n",
      "Epoch 6/50\n",
      "27773/27773 [==============================] - 5s 186us/step - loss: 3780.0382\n",
      "Epoch 7/50\n",
      "27773/27773 [==============================] - 6s 222us/step - loss: 3611.0509\n",
      "Epoch 8/50\n",
      "27773/27773 [==============================] - 5s 190us/step - loss: 3487.4904\n",
      "Epoch 9/50\n",
      "27773/27773 [==============================] - 6s 199us/step - loss: 3539.6592\n",
      "Epoch 10/50\n",
      "27773/27773 [==============================] - 5s 187us/step - loss: 3431.8291\n",
      "Epoch 11/50\n",
      "27773/27773 [==============================] - 5s 181us/step - loss: 3345.4389\n",
      "Epoch 12/50\n",
      "27773/27773 [==============================] - 5s 175us/step - loss: 3224.5671\n",
      "Epoch 13/50\n",
      "27773/27773 [==============================] - 5s 176us/step - loss: 3214.8790\n",
      "Epoch 14/50\n",
      "27773/27773 [==============================] - 5s 176us/step - loss: 3192.4033\n",
      "Epoch 15/50\n",
      "27773/27773 [==============================] - 5s 192us/step - loss: 3163.9920\n",
      "Epoch 16/50\n",
      "27773/27773 [==============================] - 5s 183us/step - loss: 3114.2618\n",
      "Epoch 17/50\n",
      "27773/27773 [==============================] - 5s 194us/step - loss: 3082.0579\n",
      "Epoch 18/50\n",
      "27773/27773 [==============================] - 6s 214us/step - loss: 3011.9308\n",
      "Epoch 19/50\n",
      "27773/27773 [==============================] - 5s 182us/step - loss: 2959.2923\n",
      "Epoch 20/50\n",
      "27773/27773 [==============================] - 4s 159us/step - loss: 2941.7492\n",
      "Epoch 21/50\n",
      "27773/27773 [==============================] - 4s 160us/step - loss: 2892.8159\n",
      "Epoch 22/50\n",
      "27773/27773 [==============================] - 5s 162us/step - loss: 2860.5971\n",
      "Epoch 23/50\n",
      "27773/27773 [==============================] - 4s 158us/step - loss: 2828.0072\n",
      "Epoch 24/50\n",
      "27773/27773 [==============================] - 5s 179us/step - loss: 2779.9493\n",
      "Epoch 25/50\n",
      "27773/27773 [==============================] - 4s 159us/step - loss: 2825.3679\n",
      "Epoch 26/50\n",
      "27773/27773 [==============================] - 5s 168us/step - loss: 2771.0277\n",
      "Epoch 27/50\n",
      "27773/27773 [==============================] - 5s 167us/step - loss: 2732.7717\n",
      "Epoch 28/50\n",
      "27773/27773 [==============================] - 5s 172us/step - loss: 2729.0869\n",
      "Epoch 29/50\n",
      "27773/27773 [==============================] - 5s 181us/step - loss: 2677.0260\n",
      "Epoch 30/50\n",
      "27773/27773 [==============================] - 5s 166us/step - loss: 2656.5632\n",
      "Epoch 31/50\n",
      "27773/27773 [==============================] - 5s 164us/step - loss: 2622.7057\n",
      "Epoch 32/50\n",
      "27773/27773 [==============================] - 4s 162us/step - loss: 2619.0716\n",
      "Epoch 33/50\n",
      "27773/27773 [==============================] - 4s 156us/step - loss: 2633.4666\n",
      "Epoch 34/50\n",
      "27773/27773 [==============================] - 4s 161us/step - loss: 2611.5365\n",
      "Epoch 35/50\n",
      "27773/27773 [==============================] - 5s 164us/step - loss: 2628.4208\n",
      "Epoch 36/50\n",
      "27773/27773 [==============================] - 4s 161us/step - loss: 2597.9010\n",
      "Epoch 37/50\n",
      "27773/27773 [==============================] - 5s 163us/step - loss: 2571.5531\n",
      "Epoch 38/50\n",
      "27773/27773 [==============================] - 5s 163us/step - loss: 2595.6482\n",
      "Epoch 39/50\n",
      "27773/27773 [==============================] - 5s 166us/step - loss: 2578.3400\n",
      "Epoch 40/50\n",
      "27773/27773 [==============================] - 4s 156us/step - loss: 2582.7847\n",
      "Epoch 41/50\n",
      "27773/27773 [==============================] - 5s 177us/step - loss: 2596.7310\n",
      "Epoch 42/50\n",
      "27773/27773 [==============================] - 5s 184us/step - loss: 2571.6791\n",
      "Epoch 43/50\n",
      "27773/27773 [==============================] - 5s 194us/step - loss: 2516.3755\n",
      "Epoch 44/50\n",
      "27773/27773 [==============================] - 5s 178us/step - loss: 2523.2421\n",
      "Epoch 45/50\n",
      "27773/27773 [==============================] - 4s 157us/step - loss: 2492.1952\n",
      "Epoch 46/50\n",
      "27773/27773 [==============================] - 5s 170us/step - loss: 2480.8081\n",
      "Epoch 47/50\n",
      "27773/27773 [==============================] - 5s 172us/step - loss: 2453.9166\n",
      "Epoch 48/50\n",
      "27773/27773 [==============================] - 5s 178us/step - loss: 2420.0483\n",
      "Epoch 49/50\n",
      "27773/27773 [==============================] - 5s 194us/step - loss: 2439.1214\n",
      "Epoch 50/50\n",
      "27773/27773 [==============================] - 5s 186us/step - loss: 2438.1167\n",
      "Epoch 1/50\n",
      "27773/27773 [==============================] - 8s 274us/step - loss: 4130.5105\n",
      "Epoch 2/50\n",
      "27773/27773 [==============================] - 4s 156us/step - loss: 3664.8351\n",
      "Epoch 3/50\n",
      "27773/27773 [==============================] - 5s 168us/step - loss: 3489.5716\n",
      "Epoch 4/50\n",
      "27773/27773 [==============================] - 4s 158us/step - loss: 3397.3242\n",
      "Epoch 5/50\n",
      "27773/27773 [==============================] - 4s 161us/step - loss: 3282.9932\n",
      "Epoch 6/50\n",
      "27773/27773 [==============================] - 4s 158us/step - loss: 3286.9080\n",
      "Epoch 7/50\n",
      "27773/27773 [==============================] - 5s 165us/step - loss: 3188.1126\n",
      "Epoch 8/50\n",
      "27773/27773 [==============================] - 5s 167us/step - loss: 3021.7481\n",
      "Epoch 9/50\n",
      "27773/27773 [==============================] - 5s 174us/step - loss: 2948.0409\n",
      "Epoch 10/50\n",
      "27773/27773 [==============================] - ETA: 0s - loss: 2858.03 - 5s 175us/step - loss: 2857.2139\n",
      "Epoch 11/50\n",
      "27773/27773 [==============================] - 5s 170us/step - loss: 2837.1402\n",
      "Epoch 12/50\n",
      "27773/27773 [==============================] - 5s 163us/step - loss: 2825.2044\n",
      "Epoch 13/50\n",
      "27773/27773 [==============================] - 4s 157us/step - loss: 2715.4748\n",
      "Epoch 14/50\n",
      "27773/27773 [==============================] - 5s 166us/step - loss: 2672.5953\n",
      "Epoch 15/50\n",
      "27773/27773 [==============================] - 5s 162us/step - loss: 2643.1485\n",
      "Epoch 16/50\n",
      "27773/27773 [==============================] - 5s 162us/step - loss: 2625.0982\n",
      "Epoch 17/50\n",
      "27773/27773 [==============================] - 5s 166us/step - loss: 2563.2823\n",
      "Epoch 18/50\n",
      "27773/27773 [==============================] - 4s 161us/step - loss: 2599.9101\n",
      "Epoch 19/50\n",
      "27773/27773 [==============================] - 4s 159us/step - loss: 2536.6433\n",
      "Epoch 20/50\n",
      "27773/27773 [==============================] - 4s 160us/step - loss: 2500.5740\n",
      "Epoch 21/50\n",
      "27773/27773 [==============================] - 4s 161us/step - loss: 2498.4556\n",
      "Epoch 22/50\n",
      "27773/27773 [==============================] - 4s 160us/step - loss: 2445.0967\n",
      "Epoch 23/50\n",
      "27773/27773 [==============================] - 4s 161us/step - loss: 2406.0610\n",
      "Epoch 24/50\n",
      "27773/27773 [==============================] - 5s 163us/step - loss: 2396.1130\n",
      "Epoch 25/50\n",
      "27773/27773 [==============================] - 4s 160us/step - loss: 2375.1279\n",
      "Epoch 26/50\n",
      "27773/27773 [==============================] - 4s 160us/step - loss: 2341.5898\n",
      "Epoch 27/50\n",
      "27773/27773 [==============================] - 4s 160us/step - loss: 2310.1649\n",
      "Epoch 28/50\n",
      "27773/27773 [==============================] - 4s 160us/step - loss: 2291.8271\n",
      "Epoch 29/50\n",
      "27773/27773 [==============================] - 4s 162us/step - loss: 2284.6761\n",
      "Epoch 30/50\n",
      "27773/27773 [==============================] - 5s 163us/step - loss: 2238.2674\n",
      "Epoch 31/50\n",
      "27773/27773 [==============================] - 4s 159us/step - loss: 2250.5918\n",
      "Epoch 32/50\n",
      "27773/27773 [==============================] - 4s 158us/step - loss: 2207.7260\n",
      "Epoch 33/50\n",
      "27773/27773 [==============================] - 4s 161us/step - loss: 2180.3361\n",
      "Epoch 34/50\n",
      "27773/27773 [==============================] - 4s 162us/step - loss: 2172.6596\n",
      "Epoch 35/50\n",
      "27773/27773 [==============================] - 4s 159us/step - loss: 2155.3262\n",
      "Epoch 36/50\n",
      "27773/27773 [==============================] - 4s 160us/step - loss: 2128.2319\n",
      "Epoch 37/50\n",
      "27773/27773 [==============================] - 5s 163us/step - loss: 2129.9072\n",
      "Epoch 38/50\n",
      "27773/27773 [==============================] - 4s 161us/step - loss: 2144.3159\n",
      "Epoch 39/50\n",
      "27773/27773 [==============================] - 4s 159us/step - loss: 2109.4435\n",
      "Epoch 40/50\n",
      "27773/27773 [==============================] - 4s 161us/step - loss: 2066.0952\n"
     ]
    },
    {
     "name": "stdout",
     "output_type": "stream",
     "text": [
      "Epoch 41/50\n",
      "27773/27773 [==============================] - 4s 158us/step - loss: 2064.0053\n",
      "Epoch 42/50\n",
      "27773/27773 [==============================] - 5s 163us/step - loss: 2053.9966\n",
      "Epoch 43/50\n",
      "27773/27773 [==============================] - 5s 163us/step - loss: 2053.7188\n",
      "Epoch 44/50\n",
      "27773/27773 [==============================] - 5s 162us/step - loss: 2039.5576\n",
      "Epoch 45/50\n",
      "27773/27773 [==============================] - 4s 158us/step - loss: 2025.2608\n",
      "Epoch 46/50\n",
      "27773/27773 [==============================] - 5s 165us/step - loss: 2019.1696\n",
      "Epoch 47/50\n",
      "27773/27773 [==============================] - 4s 160us/step - loss: 1994.6137\n",
      "Epoch 48/50\n",
      "27773/27773 [==============================] - 4s 157us/step - loss: 1995.8422\n",
      "Epoch 49/50\n",
      "27773/27773 [==============================] - 4s 159us/step - loss: 1993.6677\n",
      "Epoch 50/50\n",
      "27773/27773 [==============================] - 4s 159us/step - loss: 1971.9145\n",
      "Epoch 1/50\n",
      "27773/27773 [==============================] - 7s 268us/step - loss: 4125.0930\n",
      "Epoch 2/50\n",
      "27773/27773 [==============================] - 4s 148us/step - loss: 3636.2391\n",
      "Epoch 3/50\n",
      "27773/27773 [==============================] - 5s 163us/step - loss: 3551.9215\n",
      "Epoch 4/50\n",
      "27773/27773 [==============================] - 4s 160us/step - loss: 3435.8895\n",
      "Epoch 5/50\n",
      "27773/27773 [==============================] - 4s 160us/step - loss: 3342.9310\n",
      "Epoch 6/50\n",
      "27773/27773 [==============================] - 4s 161us/step - loss: 3216.6448\n",
      "Epoch 7/50\n",
      "27773/27773 [==============================] - 4s 162us/step - loss: 3125.3846\n",
      "Epoch 8/50\n",
      "27773/27773 [==============================] - 5s 163us/step - loss: 3008.7882\n",
      "Epoch 9/50\n",
      "27773/27773 [==============================] - 5s 167us/step - loss: 2991.7663\n",
      "Epoch 10/50\n",
      "27773/27773 [==============================] - 5s 163us/step - loss: 2990.2764\n",
      "Epoch 11/50\n",
      "27773/27773 [==============================] - 5s 163us/step - loss: 2919.1723\n",
      "Epoch 12/50\n",
      "27773/27773 [==============================] - 5s 165us/step - loss: 2834.5351\n",
      "Epoch 13/50\n",
      "27773/27773 [==============================] - 5s 163us/step - loss: 2861.5713\n",
      "Epoch 14/50\n",
      "27773/27773 [==============================] - 5s 163us/step - loss: 2830.1941\n",
      "Epoch 15/50\n",
      "27773/27773 [==============================] - 5s 165us/step - loss: 2749.5016\n",
      "Epoch 16/50\n",
      "27773/27773 [==============================] - 5s 165us/step - loss: 2709.6086\n",
      "Epoch 17/50\n",
      "27773/27773 [==============================] - 5s 164us/step - loss: 2681.5354\n",
      "Epoch 18/50\n",
      "27773/27773 [==============================] - 5s 167us/step - loss: 2643.3646\n",
      "Epoch 19/50\n",
      "27773/27773 [==============================] - 5s 169us/step - loss: 2619.2565\n",
      "Epoch 20/50\n",
      "27773/27773 [==============================] - 5s 168us/step - loss: 2581.0080\n",
      "Epoch 21/50\n",
      "27773/27773 [==============================] - 5s 165us/step - loss: 2575.0397\n",
      "Epoch 22/50\n",
      "27773/27773 [==============================] - 5s 167us/step - loss: 2570.9074\n",
      "Epoch 23/50\n",
      "27773/27773 [==============================] - 5s 166us/step - loss: 2519.6022\n",
      "Epoch 24/50\n",
      "27773/27773 [==============================] - 5s 165us/step - loss: 2515.6333\n",
      "Epoch 25/50\n",
      "27773/27773 [==============================] - 5s 177us/step - loss: 2483.3454\n",
      "Epoch 26/50\n",
      "27773/27773 [==============================] - 5s 170us/step - loss: 2465.4939\n",
      "Epoch 27/50\n",
      "27773/27773 [==============================] - 5s 164us/step - loss: 2471.2708\n",
      "Epoch 28/50\n",
      "27773/27773 [==============================] - 5s 165us/step - loss: 2454.3878\n",
      "Epoch 29/50\n",
      "27773/27773 [==============================] - 5s 165us/step - loss: 2432.0575\n",
      "Epoch 30/50\n",
      "27773/27773 [==============================] - 5s 165us/step - loss: 2384.7363\n",
      "Epoch 31/50\n",
      "27773/27773 [==============================] - 5s 167us/step - loss: 2359.9164\n",
      "Epoch 32/50\n",
      "27773/27773 [==============================] - 5s 165us/step - loss: 2359.4858\n",
      "Epoch 33/50\n",
      "27773/27773 [==============================] - 5s 165us/step - loss: 2332.8397\n",
      "Epoch 34/50\n",
      "27773/27773 [==============================] - 5s 165us/step - loss: 2305.5322\n",
      "Epoch 35/50\n",
      "27773/27773 [==============================] - 5s 164us/step - loss: 2282.5836\n",
      "Epoch 36/50\n",
      "27773/27773 [==============================] - 5s 165us/step - loss: 2248.0899\n",
      "Epoch 37/50\n",
      "27773/27773 [==============================] - 5s 165us/step - loss: 2271.2211\n",
      "Epoch 38/50\n",
      "27773/27773 [==============================] - 5s 165us/step - loss: 2252.5021\n",
      "Epoch 39/50\n",
      "27773/27773 [==============================] - 5s 164us/step - loss: 2246.3330\n",
      "Epoch 40/50\n",
      "27773/27773 [==============================] - 5s 165us/step - loss: 2207.8287\n",
      "Epoch 41/50\n",
      "27773/27773 [==============================] - 5s 165us/step - loss: 2209.3832\n",
      "Epoch 42/50\n",
      "27773/27773 [==============================] - 5s 163us/step - loss: 2211.0395\n",
      "Epoch 43/50\n",
      "27773/27773 [==============================] - 5s 165us/step - loss: 2192.1478\n",
      "Epoch 44/50\n",
      "27773/27773 [==============================] - 5s 165us/step - loss: 2188.0937\n",
      "Epoch 45/50\n",
      "27773/27773 [==============================] - 5s 168us/step - loss: 2156.0620\n",
      "Epoch 46/50\n",
      "27773/27773 [==============================] - 5s 165us/step - loss: 2177.5354\n",
      "Epoch 47/50\n",
      "27773/27773 [==============================] - 5s 162us/step - loss: 2164.8055\n",
      "Epoch 48/50\n",
      "27773/27773 [==============================] - 5s 164us/step - loss: 2158.0082\n",
      "Epoch 49/50\n",
      "27773/27773 [==============================] - 5s 163us/step - loss: 2128.6533\n",
      "Epoch 50/50\n",
      "27773/27773 [==============================] - 5s 165us/step - loss: 2123.3482\n"
     ]
    }
   ],
   "source": [
    "#neural network models for each color\n",
    "nnRed = train_nn(X_train, Y_train_red)\n",
    "nnGreen = train_nn(X_train, Y_train_green)\n",
    "nnBlue = train_nn(X_train, Y_train_blue)"
   ]
  },
  {
   "cell_type": "markdown",
   "metadata": {},
   "source": [
    "## Generate colors"
   ]
  },
  {
   "cell_type": "code",
   "execution_count": 422,
   "metadata": {},
   "outputs": [],
   "source": [
    "def chunk_input(name, size):\n",
    "    \"\"\"\n",
    "    Divides an input string into lists of a given size.  Cleans input by removing punctuation and converting to lowercase.\n",
    "    Args:\n",
    "    input (string) : the input text\n",
    "    size (int) : the max length of each list\n",
    "    Returns:\n",
    "    chunks (list) : a list of lists of strings\n",
    "    \"\"\"\n",
    "    name = name.lower()\n",
    "\n",
    "    words = nltk.word_tokenize(name)\n",
    "    chunks = []\n",
    "    chunk = []\n",
    "    n = 0\n",
    "    for word in words:\n",
    "        if word.isalnum():\n",
    "            n += 1 \n",
    "            chunk.append(word)\n",
    "        if n == size:\n",
    "            n = 0\n",
    "            chunks.append(chunk)\n",
    "            chunk = []\n",
    "\n",
    "    if len(chunk) > 0:\n",
    "        chunks.append(chunk)\n",
    "    return chunks"
   ]
  },
  {
   "cell_type": "code",
   "execution_count": 423,
   "metadata": {},
   "outputs": [],
   "source": [
    "def display_color(rgb):\n",
    "    \"\"\"Display a color from RGB values.\n",
    "    :param rgb:\n",
    "    :return:\n",
    "    \"\"\"\n",
    "    plt.imshow([[(rgb[0], rgb[1], rgb[2])]])\n",
    "    plt.show()\n",
    "    \n",
    "def print_color_sequence(rgb_list, height):\n",
    "    \"\"\"\n",
    "    Prints a color sequence given a list of RGB values and a height for the output\n",
    "    The colors will be printed top to bottom, left to right\n",
    "    Args:\n",
    "        rgb_list (list) : a list of tuples of floats between 0 and 1 representing RGB values\n",
    "        height (int) : the height of the grid to be printed\n",
    "    Returns:\n",
    "        fig: a figure showing all the colors printed out\n",
    "    \"\"\"\n",
    "  \n",
    "    length = len(rgb_list)\n",
    "\n",
    "    y_dim = height\n",
    "\n",
    "    x_dim = math.ceil(length / y_dim)\n",
    "\n",
    "    fig, sq = plt.subplots(y_dim, x_dim)\n",
    "    \n",
    "    sq = sq.reshape(y_dim, x_dim)\n",
    "\n",
    "    for i in range(y_dim*x_dim):\n",
    "\n",
    "        y = i // y_dim\n",
    "        x = i % y_dim\n",
    "\n",
    "        if i < length:\n",
    "            sq[x, y].imshow([[rgb_list[i]]])\n",
    "            sq[x, y].axes.get_xaxis().set_visible(False)\n",
    "            sq[x, y].axes.get_yaxis().set_visible(False)\n",
    "        else:\n",
    "            sq[x,y].axis('off')"
   ]
  },
  {
   "cell_type": "code",
   "execution_count": 438,
   "metadata": {},
   "outputs": [],
   "source": [
    "def assign_color(chunks, modelRed, modelGreen, modelBlue):\n",
    "    \"\"\"Generate color from a name.\n",
    "    For each chunk of data, predicts r g and b values and then prints them out\n",
    "    \"\"\"\n",
    "    rgbs = []\n",
    "    #get rgb values for each chunk\n",
    "    for words in chunks:\n",
    "        color_name = []\n",
    "        for word in words:\n",
    "            if word in model_gigaword:\n",
    "                color_name.append(model_gigaword[word])\n",
    "            else:\n",
    "                continue\n",
    "        \n",
    "        #pad with empty embedding if color name is not long enough\n",
    "        empty_embedding = np.zeros(100)\n",
    "        while len(color_name) < max_tokens:\n",
    "            color_name.append(empty_embedding)\n",
    "\n",
    "        r = modelRed.predict(np.array([color_name]))[0][0] * 1.0 / 255\n",
    "\n",
    "        g = modelGreen.predict(np.array([color_name]))[0][0] * 1.0 / 255\n",
    "\n",
    "        b = modelBlue.predict(np.array([color_name]))[0][0] * 1.0 / 255\n",
    "\n",
    "        rgb = (r, g, b)\n",
    "        rgbs.append(rgb)\n",
    "    \n",
    "    #print single color\n",
    "    if len(rgbs) == 1:\n",
    "        print(' '.join(chunks[0]))\n",
    "        display_color(rgbs[0])\n",
    "    #print color pallete\n",
    "    else:\n",
    "        print_color_sequence(rgbs, math.ceil(math.sqrt(len(rgbs))))"
   ]
  },
  {
   "cell_type": "code",
   "execution_count": 434,
   "metadata": {},
   "outputs": [
    {
     "name": "stdout",
     "output_type": "stream",
     "text": [
      "orange\n"
     ]
    },
    {
     "data": {
      "image/png": "[encoded data removed]",
      "text/plain": [
       "<Figure size 432x288 with 1 Axes>"
      ]
     },
     "metadata": {
      "needs_background": "light"
     },
     "output_type": "display_data"
    },
    {
     "name": "stdout",
     "output_type": "stream",
     "text": [
      "deep orange\n"
     ]
    },
    {
     "data": {
      "image/png": "[encoded data removed]",
      "text/plain": [
       "<Figure size 432x288 with 1 Axes>"
      ]
     },
     "metadata": {
      "needs_background": "light"
     },
     "output_type": "display_data"
    },
    {
     "name": "stdout",
     "output_type": "stream",
     "text": [
      "red\n"
     ]
    },
    {
     "data": {
      "image/png": "[encoded data removed]",
      "text/plain": [
       "<Figure size 432x288 with 1 Axes>"
      ]
     },
     "metadata": {
      "needs_background": "light"
     },
     "output_type": "display_data"
    },
    {
     "name": "stdout",
     "output_type": "stream",
     "text": [
      "blue\n"
     ]
    },
    {
     "data": {
      "image/png": "[encoded data removed]",
      "text/plain": [
       "<Figure size 432x288 with 1 Axes>"
      ]
     },
     "metadata": {
      "needs_background": "light"
     },
     "output_type": "display_data"
    },
    {
     "name": "stdout",
     "output_type": "stream",
     "text": [
      "green\n"
     ]
    },
    {
     "data": {
      "image/png": "[encoded data removed]",
      "text/plain": [
       "<Figure size 432x288 with 1 Axes>"
      ]
     },
     "metadata": {
      "needs_background": "light"
     },
     "output_type": "display_data"
    },
    {
     "name": "stdout",
     "output_type": "stream",
     "text": [
      "unhappy cat\n"
     ]
    },
    {
     "data": {
      "image/png": "[encoded data removed]",
      "text/plain": [
       "<Figure size 432x288 with 1 Axes>"
      ]
     },
     "metadata": {
      "needs_background": "light"
     },
     "output_type": "display_data"
    },
    {
     "name": "stdout",
     "output_type": "stream",
     "text": [
      "frivolous tree\n"
     ]
    },
    {
     "data": {
      "image/png": "[encoded data removed]",
      "text/plain": [
       "<Figure size 432x288 with 1 Axes>"
      ]
     },
     "metadata": {
      "needs_background": "light"
     },
     "output_type": "display_data"
    },
    {
     "name": "stdout",
     "output_type": "stream",
     "text": [
      "the tree is red\n"
     ]
    },
    {
     "data": {
      "image/png": "[encoded data removed]",
      "text/plain": [
       "<Figure size 432x288 with 1 Axes>"
      ]
     },
     "metadata": {
      "needs_background": "light"
     },
     "output_type": "display_data"
    },
    {
     "name": "stdout",
     "output_type": "stream",
     "text": [
      "sunny\n"
     ]
    },
    {
     "data": {
      "image/png": "[encoded data removed]",
      "text/plain": [
       "<Figure size 432x288 with 1 Axes>"
      ]
     },
     "metadata": {
      "needs_background": "light"
     },
     "output_type": "display_data"
    },
    {
     "name": "stdout",
     "output_type": "stream",
     "text": [
      "stormy\n"
     ]
    },
    {
     "data": {
      "image/png": "[encoded data removed]",
      "text/plain": [
       "<Figure size 432x288 with 1 Axes>"
      ]
     },
     "metadata": {
      "needs_background": "light"
     },
     "output_type": "display_data"
    },
    {
     "name": "stdout",
     "output_type": "stream",
     "text": [
      "cloudy\n"
     ]
    },
    {
     "data": {
      "image/png": "[encoded data removed]",
      "text/plain": [
       "<Figure size 432x288 with 1 Axes>"
      ]
     },
     "metadata": {
      "needs_background": "light"
     },
     "output_type": "display_data"
    },
    {
     "name": "stdout",
     "output_type": "stream",
     "text": [
      "half past sunset\n"
     ]
    },
    {
     "data": {
      "image/png": "[encoded data removed]",
      "text/plain": [
       "<Figure size 432x288 with 1 Axes>"
      ]
     },
     "metadata": {
      "needs_background": "light"
     },
     "output_type": "display_data"
    },
    {
     "name": "stdout",
     "output_type": "stream",
     "text": [
      "walk by the ocean\n"
     ]
    },
    {
     "data": {
      "image/png": "[encoded data removed]",
      "text/plain": [
       "<Figure size 432x288 with 1 Axes>"
      ]
     },
     "metadata": {
      "needs_background": "light"
     },
     "output_type": "display_data"
    },
    {
     "name": "stdout",
     "output_type": "stream",
     "text": [
      "ocean\n"
     ]
    },
    {
     "data": {
      "image/png": "[encoded data removed]",
      "text/plain": [
       "<Figure size 432x288 with 1 Axes>"
      ]
     },
     "metadata": {
      "needs_background": "light"
     },
     "output_type": "display_data"
    },
    {
     "name": "stdout",
     "output_type": "stream",
     "text": [
      "banana\n"
     ]
    },
    {
     "data": {
      "image/png": "[encoded data removed]",
      "text/plain": [
       "<Figure size 432x288 with 1 Axes>"
      ]
     },
     "metadata": {
      "needs_background": "light"
     },
     "output_type": "display_data"
    }
   ],
   "source": [
    "names = [\"orange\", \"deep orange\", \"red\", \"blue\", \"green\", \"unhappy cat\", \"frivolous tree\",\n",
    "        \"the tree is red\", \"sunny\", \"stormy\", \"cloudy\", \"half past sunset\", \"walk by the ocean\", \"ocean\", \"banana\"]\n",
    "for name in names:\n",
    "    chunks = chunk_input(name, 6)\n",
    "    assign_color(chunks, nnRed, nnGreen, nnBlue)"
   ]
  },
  {
   "cell_type": "code",
   "execution_count": 435,
   "metadata": {},
   "outputs": [
    {
     "name": "stdout",
     "output_type": "stream",
     "text": [
      "happy\n"
     ]
    },
    {
     "data": {
      "image/png": "[encoded data removed]",
      "text/plain": [
       "<Figure size 432x288 with 1 Axes>"
      ]
     },
     "metadata": {
      "needs_background": "light"
     },
     "output_type": "display_data"
    },
    {
     "name": "stdout",
     "output_type": "stream",
     "text": [
      "sad\n"
     ]
    },
    {
     "data": {
      "image/png": "[encoded data removed]",
      "text/plain": [
       "<Figure size 432x288 with 1 Axes>"
      ]
     },
     "metadata": {
      "needs_background": "light"
     },
     "output_type": "display_data"
    },
    {
     "name": "stdout",
     "output_type": "stream",
     "text": [
      "angry\n"
     ]
    },
    {
     "data": {
      "image/png": "[encoded data removed]",
      "text/plain": [
       "<Figure size 432x288 with 1 Axes>"
      ]
     },
     "metadata": {
      "needs_background": "light"
     },
     "output_type": "display_data"
    },
    {
     "name": "stdout",
     "output_type": "stream",
     "text": [
      "mellow\n"
     ]
    },
    {
     "data": {
      "image/png": "[encoded data removed]",
      "text/plain": [
       "<Figure size 432x288 with 1 Axes>"
      ]
     },
     "metadata": {
      "needs_background": "light"
     },
     "output_type": "display_data"
    }
   ],
   "source": [
    "names = [\"happy\", \"sad\", \"angry\", \"mellow\"]\n",
    "for name in names:\n",
    "    chunks = chunk_input(name, 6)\n",
    "    assign_color(chunks, nnRed, nnGreen, nnBlue)"
   ]
  },
  {
   "cell_type": "code",
   "execution_count": 436,
   "metadata": {},
   "outputs": [],
   "source": [
    "def load_file(filename):\n",
    "    '''\n",
    "    Loads a string from a plain text file.\n",
    "    Parameters:\n",
    "    filename (str): path to file\n",
    "\n",
    "    Returns:\n",
    "    String : the contents of the file as a string\n",
    "    '''\n",
    "    out = \"\"\n",
    "    with open(filename, 'r') as f:\n",
    "        for line in f:\n",
    "            out += line\n",
    "    out = out.replace(\"\\n\", \"\")\n",
    "    return out"
   ]
  },
  {
   "cell_type": "code",
   "execution_count": 439,
   "metadata": {},
   "outputs": [
    {
     "name": "stderr",
     "output_type": "stream",
     "text": [
      "Clipping input data to the valid range for imshow with RGB data ([0..1] for floats or [0..255] for integers).\n",
      "Clipping input data to the valid range for imshow with RGB data ([0..1] for floats or [0..255] for integers).\n",
      "Clipping input data to the valid range for imshow with RGB data ([0..1] for floats or [0..255] for integers).\n",
      "Clipping input data to the valid range for imshow with RGB data ([0..1] for floats or [0..255] for integers).\n"
     ]
    },
    {
     "data": {
      "image/png": "[encoded data removed]",
      "text/plain": [
       "<Figure size 432x288 with 169 Axes>"
      ]
     },
     "metadata": {
      "needs_background": "light"
     },
     "output_type": "display_data"
    },
    {
     "data": {
      "image/png": "[encoded data removed]",
      "text/plain": [
       "<Figure size 432x288 with 56 Axes>"
      ]
     },
     "metadata": {
      "needs_background": "light"
     },
     "output_type": "display_data"
    },
    {
     "data": {
      "image/png": "[encoded data removed]",
      "text/plain": [
       "<Figure size 432x288 with 342 Axes>"
      ]
     },
     "metadata": {
      "needs_background": "light"
     },
     "output_type": "display_data"
    },
    {
     "data": {
      "image/png": "[encoded data removed]",
      "text/plain": [
       "<Figure size 432x288 with 81 Axes>"
      ]
     },
     "metadata": {
      "needs_background": "light"
     },
     "output_type": "display_data"
    }
   ],
   "source": [
    "#print palettes of longer texts\n",
    "texts = [load_file(\"poe.txt\"), load_file(\"firework.txt\"), load_file(\"moby_dick.txt\"), load_file(\"happy.txt\")]\n",
    "for i in range(0, len(texts)):\n",
    "    chunks = chunk_input(texts[i], 6)\n",
    "    assign_color(chunks, nnRed, nnGreen, nnBlue)"
   ]
  },
  {
   "cell_type": "markdown",
   "metadata": {},
   "source": [
    "# Logistic Regression"
   ]
  },
  {
   "cell_type": "code",
   "execution_count": 348,
   "metadata": {},
   "outputs": [],
   "source": [
    "def train_lr(X_train, Y_train):\n",
    "    X_train = X_train.reshape((27773,100*max_name_length))\n",
    "    model = LogisticRegression(random_state=0)\n",
    "    model.fit(X_train, Y_train)\n",
    "    return model"
   ]
  },
  {
   "cell_type": "code",
   "execution_count": 349,
   "metadata": {},
   "outputs": [
    {
     "name": "stderr",
     "output_type": "stream",
     "text": [
      "/Users/gracebrown/anaconda3/lib/python3.7/site-packages/sklearn/linear_model/_logistic.py:765: ConvergenceWarning: lbfgs failed to converge (status=1):\n",
      "STOP: TOTAL NO. of ITERATIONS REACHED LIMIT.\n",
      "\n",
      "Increase the number of iterations (max_iter) or scale the data as shown in:\n",
      "    https://scikit-learn.org/stable/modules/preprocessing.html\n",
      "Please also refer to the documentation for alternative solver options:\n",
      "    https://scikit-learn.org/stable/modules/linear_model.html#logistic-regression\n",
      "  extra_warning_msg=_LOGISTIC_SOLVER_CONVERGENCE_MSG)\n",
      "/Users/gracebrown/anaconda3/lib/python3.7/site-packages/sklearn/linear_model/_logistic.py:765: ConvergenceWarning: lbfgs failed to converge (status=1):\n",
      "STOP: TOTAL NO. of ITERATIONS REACHED LIMIT.\n",
      "\n",
      "Increase the number of iterations (max_iter) or scale the data as shown in:\n",
      "    https://scikit-learn.org/stable/modules/preprocessing.html\n",
      "Please also refer to the documentation for alternative solver options:\n",
      "    https://scikit-learn.org/stable/modules/linear_model.html#logistic-regression\n",
      "  extra_warning_msg=_LOGISTIC_SOLVER_CONVERGENCE_MSG)\n",
      "/Users/gracebrown/anaconda3/lib/python3.7/site-packages/sklearn/linear_model/_logistic.py:765: ConvergenceWarning: lbfgs failed to converge (status=1):\n",
      "STOP: TOTAL NO. of ITERATIONS REACHED LIMIT.\n",
      "\n",
      "Increase the number of iterations (max_iter) or scale the data as shown in:\n",
      "    https://scikit-learn.org/stable/modules/preprocessing.html\n",
      "Please also refer to the documentation for alternative solver options:\n",
      "    https://scikit-learn.org/stable/modules/linear_model.html#logistic-regression\n",
      "  extra_warning_msg=_LOGISTIC_SOLVER_CONVERGENCE_MSG)\n"
     ]
    }
   ],
   "source": [
    "#logistic regression models for each color\n",
    "lrRed = train_lr(X_train, Y_train_red)\n",
    "lrGreen = train_lr(X_train, Y_train_green)\n",
    "lrBlue = train_lr(X_train, Y_train_blue)"
   ]
  },
  {
   "cell_type": "code",
   "execution_count": 364,
   "metadata": {},
   "outputs": [],
   "source": [
    "def assign_color_lr(chunks, modelRed, modelGreen, modelBlue):\n",
    "    \"\"\"Generate color from a name.\n",
    "    For each chunk of data, predicts r g and b values and then prints them out\n",
    "    \"\"\"\n",
    "    #get rgb values for each chunk\n",
    "    rgbs = []\n",
    "    for words in chunks:\n",
    "        color_name = []\n",
    "        for word in words:\n",
    "            if word in model_gigaword:\n",
    "                color_name.append(model_gigaword[word])\n",
    "            else:\n",
    "                continue\n",
    "        \n",
    "        #pad with empty embedding if color name is not long enough\n",
    "        empty_embedding = np.zeros(100)\n",
    "        while len(color_name) < max_tokens:\n",
    "            color_name.append(empty_embedding)\n",
    "            \n",
    "        #flatten out list\n",
    "        flat_list = [item for sublist in color_name for item in sublist]\n",
    "\n",
    "        r = modelRed.predict(np.array([flat_list]))[0] * 1.0 / 255\n",
    "\n",
    "        g = modelGreen.predict(np.array([flat_list]))[0] * 1.0 / 255\n",
    "\n",
    "        b = modelBlue.predict(np.array([flat_list]))[0] * 1.0 / 255\n",
    "\n",
    "        rgb = (r, g, b)\n",
    "        rgbs.append(rgb)\n",
    "        \n",
    "    #print single color\n",
    "    if len(rgbs) == 1:\n",
    "        print(' '.join(chunks[0]))\n",
    "        display_color(rgbs[0])\n",
    "    #print color palette\n",
    "    else:\n",
    "        print(title)\n",
    "        print_color_sequence(rgbs, math.ceil(math.sqrt(len(rgbs))))"
   ]
  },
  {
   "cell_type": "code",
   "execution_count": 417,
   "metadata": {},
   "outputs": [
    {
     "name": "stdout",
     "output_type": "stream",
     "text": [
      "orange\n"
     ]
    },
    {
     "name": "stderr",
     "output_type": "stream",
     "text": [
      "[nltk_data] Downloading package punkt to\n",
      "[nltk_data]     /Users/gracebrown/nltk_data...\n",
      "[nltk_data]   Package punkt is already up-to-date!\n"
     ]
    },
    {
     "data": {
      "image/png": "[encoded data removed]",
      "text/plain": [
       "<Figure size 432x288 with 1 Axes>"
      ]
     },
     "metadata": {
      "needs_background": "light"
     },
     "output_type": "display_data"
    },
    {
     "name": "stdout",
     "output_type": "stream",
     "text": [
      "deep orange\n"
     ]
    },
    {
     "data": {
      "image/png": "[encoded data removed]",
      "text/plain": [
       "<Figure size 432x288 with 1 Axes>"
      ]
     },
     "metadata": {
      "needs_background": "light"
     },
     "output_type": "display_data"
    },
    {
     "name": "stdout",
     "output_type": "stream",
     "text": [
      "red\n"
     ]
    },
    {
     "data": {
      "image/png": "[encoded data removed]",
      "text/plain": [
       "<Figure size 432x288 with 1 Axes>"
      ]
     },
     "metadata": {
      "needs_background": "light"
     },
     "output_type": "display_data"
    },
    {
     "name": "stdout",
     "output_type": "stream",
     "text": [
      "blue\n"
     ]
    },
    {
     "data": {
      "image/png": "[encoded data removed]",
      "text/plain": [
       "<Figure size 432x288 with 1 Axes>"
      ]
     },
     "metadata": {
      "needs_background": "light"
     },
     "output_type": "display_data"
    },
    {
     "name": "stdout",
     "output_type": "stream",
     "text": [
      "green\n"
     ]
    },
    {
     "data": {
      "image/png": "[encoded data removed]",
      "text/plain": [
       "<Figure size 432x288 with 1 Axes>"
      ]
     },
     "metadata": {
      "needs_background": "light"
     },
     "output_type": "display_data"
    },
    {
     "name": "stdout",
     "output_type": "stream",
     "text": [
      "unhappy cat\n"
     ]
    },
    {
     "data": {
      "image/png": "[encoded data removed]",
      "text/plain": [
       "<Figure size 432x288 with 1 Axes>"
      ]
     },
     "metadata": {
      "needs_background": "light"
     },
     "output_type": "display_data"
    },
    {
     "name": "stdout",
     "output_type": "stream",
     "text": [
      "frivolous tree\n"
     ]
    },
    {
     "data": {
      "image/png": "[encoded data removed]",
      "text/plain": [
       "<Figure size 432x288 with 1 Axes>"
      ]
     },
     "metadata": {
      "needs_background": "light"
     },
     "output_type": "display_data"
    },
    {
     "name": "stdout",
     "output_type": "stream",
     "text": [
      "the tree is red\n"
     ]
    },
    {
     "data": {
      "image/png": "[encoded data removed]",
      "text/plain": [
       "<Figure size 432x288 with 1 Axes>"
      ]
     },
     "metadata": {
      "needs_background": "light"
     },
     "output_type": "display_data"
    },
    {
     "name": "stdout",
     "output_type": "stream",
     "text": [
      "sunny\n"
     ]
    },
    {
     "data": {
      "image/png": "[encoded data removed]",
      "text/plain": [
       "<Figure size 432x288 with 1 Axes>"
      ]
     },
     "metadata": {
      "needs_background": "light"
     },
     "output_type": "display_data"
    },
    {
     "name": "stdout",
     "output_type": "stream",
     "text": [
      "stormy\n"
     ]
    },
    {
     "data": {
      "image/png": "[encoded data removed]",
      "text/plain": [
       "<Figure size 432x288 with 1 Axes>"
      ]
     },
     "metadata": {
      "needs_background": "light"
     },
     "output_type": "display_data"
    },
    {
     "name": "stdout",
     "output_type": "stream",
     "text": [
      "cloudy\n"
     ]
    },
    {
     "data": {
      "image/png": "[encoded data removed]",
      "text/plain": [
       "<Figure size 432x288 with 1 Axes>"
      ]
     },
     "metadata": {
      "needs_background": "light"
     },
     "output_type": "display_data"
    },
    {
     "name": "stdout",
     "output_type": "stream",
     "text": [
      "half past sunset\n"
     ]
    },
    {
     "data": {
      "image/png": "[encoded data removed]",
      "text/plain": [
       "<Figure size 432x288 with 1 Axes>"
      ]
     },
     "metadata": {
      "needs_background": "light"
     },
     "output_type": "display_data"
    },
    {
     "name": "stdout",
     "output_type": "stream",
     "text": [
      "walk by the ocean\n"
     ]
    },
    {
     "data": {
      "image/png": "[encoded data removed]",
      "text/plain": [
       "<Figure size 432x288 with 1 Axes>"
      ]
     },
     "metadata": {
      "needs_background": "light"
     },
     "output_type": "display_data"
    },
    {
     "name": "stdout",
     "output_type": "stream",
     "text": [
      "ocean\n"
     ]
    },
    {
     "data": {
      "image/png": "[encoded data removed]",
      "text/plain": [
       "<Figure size 432x288 with 1 Axes>"
      ]
     },
     "metadata": {
      "needs_background": "light"
     },
     "output_type": "display_data"
    },
    {
     "name": "stdout",
     "output_type": "stream",
     "text": [
      "banana\n"
     ]
    },
    {
     "data": {
      "image/png": "[encoded data removed]",
      "text/plain": [
       "<Figure size 432x288 with 1 Axes>"
      ]
     },
     "metadata": {
      "needs_background": "light"
     },
     "output_type": "display_data"
    }
   ],
   "source": [
    "names = [\"orange\", \"deep orange\", \"red\", \"blue\", \"green\", \"unhappy cat\", \"frivolous tree\",\n",
    "        \"the tree is red\", \"sunny\", \"stormy\", \"cloudy\", \"half past sunset\", \"walk by the ocean\", \"ocean\", \"banana\"]\n",
    "for name in names:\n",
    "    chunks = chunk_input(name, 6)\n",
    "    assign_color_lr(chunks, lrRed, lrGreen, lrBlue)"
   ]
  },
  {
   "cell_type": "code",
   "execution_count": 369,
   "metadata": {},
   "outputs": [
    {
     "name": "stdout",
     "output_type": "stream",
     "text": [
      "happy\n"
     ]
    },
    {
     "data": {
      "image/png": "[encoded data removed]",
      "text/plain": [
       "<Figure size 432x288 with 1 Axes>"
      ]
     },
     "metadata": {
      "needs_background": "light"
     },
     "output_type": "display_data"
    },
    {
     "name": "stdout",
     "output_type": "stream",
     "text": [
      "sad\n"
     ]
    },
    {
     "data": {
      "image/png": "[encoded data removed]",
      "text/plain": [
       "<Figure size 432x288 with 1 Axes>"
      ]
     },
     "metadata": {
      "needs_background": "light"
     },
     "output_type": "display_data"
    },
    {
     "name": "stdout",
     "output_type": "stream",
     "text": [
      "angry\n"
     ]
    },
    {
     "data": {
      "image/png": "[encoded data removed]",
      "text/plain": [
       "<Figure size 432x288 with 1 Axes>"
      ]
     },
     "metadata": {
      "needs_background": "light"
     },
     "output_type": "display_data"
    },
    {
     "name": "stdout",
     "output_type": "stream",
     "text": [
      "mellow\n"
     ]
    },
    {
     "data": {
      "image/png": "[encoded data removed]",
      "text/plain": [
       "<Figure size 432x288 with 1 Axes>"
      ]
     },
     "metadata": {
      "needs_background": "light"
     },
     "output_type": "display_data"
    }
   ],
   "source": [
    "names = [\"happy\", \"sad\", \"angry\", \"mellow\"]\n",
    "for name in names:\n",
    "    chunks = chunk_input(name, 6)\n",
    "    assign_color_lr(chunks, lrRed, lrGreen, lrBlue)"
   ]
  },
  {
   "cell_type": "code",
   "execution_count": 355,
   "metadata": {},
   "outputs": [
    {
     "data": {
      "image/png": "[encoded data removed]",
      "text/plain": [
       "<Figure size 432x288 with 169 Axes>"
      ]
     },
     "metadata": {
      "needs_background": "light"
     },
     "output_type": "display_data"
    },
    {
     "data": {
      "image/png": "[encoded data removed]",
      "text/plain": [
       "<Figure size 432x288 with 56 Axes>"
      ]
     },
     "metadata": {
      "needs_background": "light"
     },
     "output_type": "display_data"
    },
    {
     "data": {
      "image/png": "[encoded data removed]",
      "text/plain": [
       "<Figure size 432x288 with 342 Axes>"
      ]
     },
     "metadata": {
      "needs_background": "light"
     },
     "output_type": "display_data"
    },
    {
     "data": {
      "image/png": "[encoded data removed]",
      "text/plain": [
       "<Figure size 432x288 with 81 Axes>"
      ]
     },
     "metadata": {
      "needs_background": "light"
     },
     "output_type": "display_data"
    }
   ],
   "source": [
    "#color palettes for longer texts\n",
    "texts = [load_file(\"poe.txt\"), load_file(\"firework.txt\"), load_file(\"moby_dick.txt\"), load_file(\"happy.txt\")]\n",
    "for name in texts:\n",
    "    chunks = chunk_input(name, 6)\n",
    "    assign_color_lr(chunks, lrRed, lrGreen, lrBlue)"
   ]
  }
 ],
 "metadata": {
  "kernelspec": {
   "display_name": "Python 3",
   "language": "python",
   "name": "python3"
  },
  "language_info": {
   "codemirror_mode": {
    "name": "ipython",
    "version": 3
   },
   "file_extension": ".py",
   "mimetype": "text/x-python",
   "name": "python",
   "nbconvert_exporter": "python",
   "pygments_lexer": "ipython3",
   "version": "3.8.5"
  }
 },
 "nbformat": 4,
 "nbformat_minor": 2
}
